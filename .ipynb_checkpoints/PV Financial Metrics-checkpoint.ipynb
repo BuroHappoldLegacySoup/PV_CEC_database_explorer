{
 "cells": [
  {
   "cell_type": "markdown",
   "id": "aab89d25",
   "metadata": {},
   "source": [
    "# Financial calculations for PV\n",
    "\n",
    "The goal of this notebook is to document and understand the different PV calculation methodologies being used."
   ]
  },
  {
   "cell_type": "code",
   "execution_count": 135,
   "id": "ea578151",
   "metadata": {
    "scrolled": true
   },
   "outputs": [
    {
     "data": {
      "text/html": [
       "<script>\n",
       "code_show=true; \n",
       "function code_toggle() {\n",
       " if (code_show){\n",
       " $('div.input').hide();\n",
       " } else {\n",
       " $('div.input').show();\n",
       " }\n",
       " code_show = !code_show\n",
       "} \n",
       "$( document ).ready(code_toggle);\n",
       "</script>\n",
       "<form action=\"javascript:code_toggle()\"><input type=\"submit\" value=\"Click here to toggle on/off the raw code.\"></form>"
      ],
      "text/plain": [
       "<IPython.core.display.HTML object>"
      ]
     },
     "execution_count": 135,
     "metadata": {},
     "output_type": "execute_result"
    }
   ],
   "source": [
    "\"\"\"\n",
    "To publish as .html, use the following line of code\n",
    "jupyter nbconvert --to html --TagRemovePreprocessor.remove_cell_tags='{\"hide_code\"}' my-notebook.ipynb\n",
    "\"\"\"\n",
    "\n",
    "import pandas as pd\n",
    "import numpy as np\n",
    "import numpy_financial as npf\n",
    "import ipywidgets as widgets\n",
    "from IPython.display import display\n",
    "\n",
    "from datetime import datetime as dt\n",
    "from datetime import date\n",
    "\n",
    "import plotly.express as px\n",
    "from plotly.offline import plot\n",
    "from plotly.subplots import make_subplots\n",
    "import plotly.io as pio\n",
    "import plotly.graph_objects as go\n",
    "\n",
    "# The following line also toggles cell visibility:\n",
    "from IPython.display import HTML\n",
    "\n",
    "HTML('''<script>\n",
    "code_show=true; \n",
    "function code_toggle() {\n",
    " if (code_show){\n",
    " $('div.input').hide();\n",
    " } else {\n",
    " $('div.input').show();\n",
    " }\n",
    " code_show = !code_show\n",
    "} \n",
    "$( document ).ready(code_toggle);\n",
    "</script>\n",
    "<form action=\"javascript:code_toggle()\"><input type=\"submit\" value=\"Click here to toggle on/off the raw code.\"></form>''')"
   ]
  },
  {
   "cell_type": "code",
   "execution_count": 542,
   "id": "c9e2c5c5",
   "metadata": {
    "scrolled": false
   },
   "outputs": [
    {
     "data": {
      "application/vnd.plotly.v1+json": {
       "config": {
        "plotlyServerURL": "https://plot.ly"
       },
       "data": [
        {
         "name": "Haushalte",
         "type": "scatter",
         "y": [
          21.48,
          21.95,
          22.82,
          22.94,
          23.75,
          24.38,
          25.28,
          25.31,
          25.95,
          26.76,
          29.19,
          29.21,
          29.81,
          29.74,
          29.51,
          29.46,
          29.69,
          29.77,
          30.48,
          30.48,
          29.87,
          30,
          30.88,
          28.78,
          30.43,
          30.06,
          31.93,
          32.34,
          32.79
         ]
        },
        {
         "name": "linear",
         "type": "scatter",
         "xaxis": "x",
         "y": [
          23.184000000048375,
          23.535487684776022,
          23.886975369503674,
          24.238463054231325,
          24.589950738958972,
          24.94143842368662,
          25.29292610841427,
          25.644413793141922,
          25.99590147786957,
          26.347389162597217,
          26.69887684732487,
          27.05036453205252,
          27.401852216780167,
          27.753339901507815,
          28.104827586235466,
          28.456315270963117,
          28.807802955690764,
          29.159290640418412,
          29.510778325146063,
          29.862266009873714,
          30.213753694601362,
          30.56524137932901,
          30.91672906405666,
          31.26821674878431,
          31.61970443351196,
          31.971192118239607,
          32.32267980296726,
          32.67416748769491,
          33.02565517242256
         ],
         "yaxis": "y"
        },
        {
         "name": "exponential",
         "type": "scatter",
         "xaxis": "x",
         "y": [
          25.3127532880483,
          25.395938042404097,
          25.486042500117133,
          25.58364227501139,
          25.689360863205405,
          25.803873626189183,
          25.92791210523237,
          26.062268694685432,
          26.20780170402823,
          26.365440841003867,
          26.536193150865685,
          26.721149449679043,
          26.921491292775748,
          27.138498522877644,
          27.373557446108993,
          27.628169688128484,
          27.903961786956344,
          28.20269558377847,
          28.526279478107025,
          28.87678061919879,
          29.2564381116137,
          29.667677319274485,
          30.113125359406006,
          30.59562788533414,
          31.11826726535766,
          31.6843822738251,
          32.29758942020904,
          32.96180605243415,
          33.68127538204994
         ],
         "yaxis": "y"
        },
        {
         "name": "square",
         "type": "scatter",
         "xaxis": "x",
         "y": [
          21.301664071234537,
          22.05650945499155,
          22.78147649066779,
          23.476565178263254,
          24.141775517777948,
          24.77710750921187,
          25.382561152565017,
          25.958136447837393,
          26.503833395028995,
          27.019651994139824,
          27.505592245169883,
          27.961654148119166,
          28.38783770298768,
          28.78414290977542,
          29.150569768482384,
          29.48711827910858,
          29.793788441654,
          30.07058025611865,
          30.317493722502523,
          30.534528840805628,
          30.721685611027958,
          30.878964033169513,
          31.006364107230297,
          31.10388583321031,
          31.17152921110955,
          31.209294240928017,
          31.217180922665708,
          31.195189256322635,
          31.14331924189878
         ],
         "yaxis": "y"
        },
        {
         "name": "cubic",
         "type": "scatter",
         "xaxis": "x",
         "y": [
          20.47580228034974,
          21.584588431625818,
          22.597951648230076,
          23.52093382142465,
          24.358576842471674,
          25.115922602633287,
          25.798012993171625,
          26.409889905348827,
          26.956595230427027,
          27.443170859668363,
          27.874658684334968,
          28.25610059568898,
          28.59253848499254,
          28.88901424350778,
          29.15056976249684,
          29.382246933221857,
          29.58908764694496,
          29.776133794928292,
          29.948427268433992,
          30.11100995872419,
          30.268923757061028,
          30.42721055470664,
          30.59091224292316,
          30.765070712972733,
          30.954727856117486,
          31.164925563619562,
          31.400705726741094,
          31.667110236744225,
          31.969180984891075
         ],
         "yaxis": "y"
        }
       ],
       "layout": {
        "template": {
         "data": {
          "bar": [
           {
            "error_x": {
             "color": "#2a3f5f"
            },
            "error_y": {
             "color": "#2a3f5f"
            },
            "marker": {
             "line": {
              "color": "#E5ECF6",
              "width": 0.5
             },
             "pattern": {
              "fillmode": "overlay",
              "size": 10,
              "solidity": 0.2
             }
            },
            "type": "bar"
           }
          ],
          "barpolar": [
           {
            "marker": {
             "line": {
              "color": "#E5ECF6",
              "width": 0.5
             },
             "pattern": {
              "fillmode": "overlay",
              "size": 10,
              "solidity": 0.2
             }
            },
            "type": "barpolar"
           }
          ],
          "carpet": [
           {
            "aaxis": {
             "endlinecolor": "#2a3f5f",
             "gridcolor": "white",
             "linecolor": "white",
             "minorgridcolor": "white",
             "startlinecolor": "#2a3f5f"
            },
            "baxis": {
             "endlinecolor": "#2a3f5f",
             "gridcolor": "white",
             "linecolor": "white",
             "minorgridcolor": "white",
             "startlinecolor": "#2a3f5f"
            },
            "type": "carpet"
           }
          ],
          "choropleth": [
           {
            "colorbar": {
             "outlinewidth": 0,
             "ticks": ""
            },
            "type": "choropleth"
           }
          ],
          "contour": [
           {
            "colorbar": {
             "outlinewidth": 0,
             "ticks": ""
            },
            "colorscale": [
             [
              0,
              "#0d0887"
             ],
             [
              0.1111111111111111,
              "#46039f"
             ],
             [
              0.2222222222222222,
              "#7201a8"
             ],
             [
              0.3333333333333333,
              "#9c179e"
             ],
             [
              0.4444444444444444,
              "#bd3786"
             ],
             [
              0.5555555555555556,
              "#d8576b"
             ],
             [
              0.6666666666666666,
              "#ed7953"
             ],
             [
              0.7777777777777778,
              "#fb9f3a"
             ],
             [
              0.8888888888888888,
              "#fdca26"
             ],
             [
              1,
              "#f0f921"
             ]
            ],
            "type": "contour"
           }
          ],
          "contourcarpet": [
           {
            "colorbar": {
             "outlinewidth": 0,
             "ticks": ""
            },
            "type": "contourcarpet"
           }
          ],
          "heatmap": [
           {
            "colorbar": {
             "outlinewidth": 0,
             "ticks": ""
            },
            "colorscale": [
             [
              0,
              "#0d0887"
             ],
             [
              0.1111111111111111,
              "#46039f"
             ],
             [
              0.2222222222222222,
              "#7201a8"
             ],
             [
              0.3333333333333333,
              "#9c179e"
             ],
             [
              0.4444444444444444,
              "#bd3786"
             ],
             [
              0.5555555555555556,
              "#d8576b"
             ],
             [
              0.6666666666666666,
              "#ed7953"
             ],
             [
              0.7777777777777778,
              "#fb9f3a"
             ],
             [
              0.8888888888888888,
              "#fdca26"
             ],
             [
              1,
              "#f0f921"
             ]
            ],
            "type": "heatmap"
           }
          ],
          "heatmapgl": [
           {
            "colorbar": {
             "outlinewidth": 0,
             "ticks": ""
            },
            "colorscale": [
             [
              0,
              "#0d0887"
             ],
             [
              0.1111111111111111,
              "#46039f"
             ],
             [
              0.2222222222222222,
              "#7201a8"
             ],
             [
              0.3333333333333333,
              "#9c179e"
             ],
             [
              0.4444444444444444,
              "#bd3786"
             ],
             [
              0.5555555555555556,
              "#d8576b"
             ],
             [
              0.6666666666666666,
              "#ed7953"
             ],
             [
              0.7777777777777778,
              "#fb9f3a"
             ],
             [
              0.8888888888888888,
              "#fdca26"
             ],
             [
              1,
              "#f0f921"
             ]
            ],
            "type": "heatmapgl"
           }
          ],
          "histogram": [
           {
            "marker": {
             "pattern": {
              "fillmode": "overlay",
              "size": 10,
              "solidity": 0.2
             }
            },
            "type": "histogram"
           }
          ],
          "histogram2d": [
           {
            "colorbar": {
             "outlinewidth": 0,
             "ticks": ""
            },
            "colorscale": [
             [
              0,
              "#0d0887"
             ],
             [
              0.1111111111111111,
              "#46039f"
             ],
             [
              0.2222222222222222,
              "#7201a8"
             ],
             [
              0.3333333333333333,
              "#9c179e"
             ],
             [
              0.4444444444444444,
              "#bd3786"
             ],
             [
              0.5555555555555556,
              "#d8576b"
             ],
             [
              0.6666666666666666,
              "#ed7953"
             ],
             [
              0.7777777777777778,
              "#fb9f3a"
             ],
             [
              0.8888888888888888,
              "#fdca26"
             ],
             [
              1,
              "#f0f921"
             ]
            ],
            "type": "histogram2d"
           }
          ],
          "histogram2dcontour": [
           {
            "colorbar": {
             "outlinewidth": 0,
             "ticks": ""
            },
            "colorscale": [
             [
              0,
              "#0d0887"
             ],
             [
              0.1111111111111111,
              "#46039f"
             ],
             [
              0.2222222222222222,
              "#7201a8"
             ],
             [
              0.3333333333333333,
              "#9c179e"
             ],
             [
              0.4444444444444444,
              "#bd3786"
             ],
             [
              0.5555555555555556,
              "#d8576b"
             ],
             [
              0.6666666666666666,
              "#ed7953"
             ],
             [
              0.7777777777777778,
              "#fb9f3a"
             ],
             [
              0.8888888888888888,
              "#fdca26"
             ],
             [
              1,
              "#f0f921"
             ]
            ],
            "type": "histogram2dcontour"
           }
          ],
          "mesh3d": [
           {
            "colorbar": {
             "outlinewidth": 0,
             "ticks": ""
            },
            "type": "mesh3d"
           }
          ],
          "parcoords": [
           {
            "line": {
             "colorbar": {
              "outlinewidth": 0,
              "ticks": ""
             }
            },
            "type": "parcoords"
           }
          ],
          "pie": [
           {
            "automargin": true,
            "type": "pie"
           }
          ],
          "scatter": [
           {
            "marker": {
             "colorbar": {
              "outlinewidth": 0,
              "ticks": ""
             }
            },
            "type": "scatter"
           }
          ],
          "scatter3d": [
           {
            "line": {
             "colorbar": {
              "outlinewidth": 0,
              "ticks": ""
             }
            },
            "marker": {
             "colorbar": {
              "outlinewidth": 0,
              "ticks": ""
             }
            },
            "type": "scatter3d"
           }
          ],
          "scattercarpet": [
           {
            "marker": {
             "colorbar": {
              "outlinewidth": 0,
              "ticks": ""
             }
            },
            "type": "scattercarpet"
           }
          ],
          "scattergeo": [
           {
            "marker": {
             "colorbar": {
              "outlinewidth": 0,
              "ticks": ""
             }
            },
            "type": "scattergeo"
           }
          ],
          "scattergl": [
           {
            "marker": {
             "colorbar": {
              "outlinewidth": 0,
              "ticks": ""
             }
            },
            "type": "scattergl"
           }
          ],
          "scattermapbox": [
           {
            "marker": {
             "colorbar": {
              "outlinewidth": 0,
              "ticks": ""
             }
            },
            "type": "scattermapbox"
           }
          ],
          "scatterpolar": [
           {
            "marker": {
             "colorbar": {
              "outlinewidth": 0,
              "ticks": ""
             }
            },
            "type": "scatterpolar"
           }
          ],
          "scatterpolargl": [
           {
            "marker": {
             "colorbar": {
              "outlinewidth": 0,
              "ticks": ""
             }
            },
            "type": "scatterpolargl"
           }
          ],
          "scatterternary": [
           {
            "marker": {
             "colorbar": {
              "outlinewidth": 0,
              "ticks": ""
             }
            },
            "type": "scatterternary"
           }
          ],
          "surface": [
           {
            "colorbar": {
             "outlinewidth": 0,
             "ticks": ""
            },
            "colorscale": [
             [
              0,
              "#0d0887"
             ],
             [
              0.1111111111111111,
              "#46039f"
             ],
             [
              0.2222222222222222,
              "#7201a8"
             ],
             [
              0.3333333333333333,
              "#9c179e"
             ],
             [
              0.4444444444444444,
              "#bd3786"
             ],
             [
              0.5555555555555556,
              "#d8576b"
             ],
             [
              0.6666666666666666,
              "#ed7953"
             ],
             [
              0.7777777777777778,
              "#fb9f3a"
             ],
             [
              0.8888888888888888,
              "#fdca26"
             ],
             [
              1,
              "#f0f921"
             ]
            ],
            "type": "surface"
           }
          ],
          "table": [
           {
            "cells": {
             "fill": {
              "color": "#EBF0F8"
             },
             "line": {
              "color": "white"
             }
            },
            "header": {
             "fill": {
              "color": "#C8D4E3"
             },
             "line": {
              "color": "white"
             }
            },
            "type": "table"
           }
          ]
         },
         "layout": {
          "annotationdefaults": {
           "arrowcolor": "#2a3f5f",
           "arrowhead": 0,
           "arrowwidth": 1
          },
          "autotypenumbers": "strict",
          "coloraxis": {
           "colorbar": {
            "outlinewidth": 0,
            "ticks": ""
           }
          },
          "colorscale": {
           "diverging": [
            [
             0,
             "#8e0152"
            ],
            [
             0.1,
             "#c51b7d"
            ],
            [
             0.2,
             "#de77ae"
            ],
            [
             0.3,
             "#f1b6da"
            ],
            [
             0.4,
             "#fde0ef"
            ],
            [
             0.5,
             "#f7f7f7"
            ],
            [
             0.6,
             "#e6f5d0"
            ],
            [
             0.7,
             "#b8e186"
            ],
            [
             0.8,
             "#7fbc41"
            ],
            [
             0.9,
             "#4d9221"
            ],
            [
             1,
             "#276419"
            ]
           ],
           "sequential": [
            [
             0,
             "#0d0887"
            ],
            [
             0.1111111111111111,
             "#46039f"
            ],
            [
             0.2222222222222222,
             "#7201a8"
            ],
            [
             0.3333333333333333,
             "#9c179e"
            ],
            [
             0.4444444444444444,
             "#bd3786"
            ],
            [
             0.5555555555555556,
             "#d8576b"
            ],
            [
             0.6666666666666666,
             "#ed7953"
            ],
            [
             0.7777777777777778,
             "#fb9f3a"
            ],
            [
             0.8888888888888888,
             "#fdca26"
            ],
            [
             1,
             "#f0f921"
            ]
           ],
           "sequentialminus": [
            [
             0,
             "#0d0887"
            ],
            [
             0.1111111111111111,
             "#46039f"
            ],
            [
             0.2222222222222222,
             "#7201a8"
            ],
            [
             0.3333333333333333,
             "#9c179e"
            ],
            [
             0.4444444444444444,
             "#bd3786"
            ],
            [
             0.5555555555555556,
             "#d8576b"
            ],
            [
             0.6666666666666666,
             "#ed7953"
            ],
            [
             0.7777777777777778,
             "#fb9f3a"
            ],
            [
             0.8888888888888888,
             "#fdca26"
            ],
            [
             1,
             "#f0f921"
            ]
           ]
          },
          "colorway": [
           "#636efa",
           "#EF553B",
           "#00cc96",
           "#ab63fa",
           "#FFA15A",
           "#19d3f3",
           "#FF6692",
           "#B6E880",
           "#FF97FF",
           "#FECB52"
          ],
          "font": {
           "color": "#2a3f5f"
          },
          "geo": {
           "bgcolor": "white",
           "lakecolor": "white",
           "landcolor": "#E5ECF6",
           "showlakes": true,
           "showland": true,
           "subunitcolor": "white"
          },
          "hoverlabel": {
           "align": "left"
          },
          "hovermode": "closest",
          "mapbox": {
           "style": "light"
          },
          "paper_bgcolor": "white",
          "plot_bgcolor": "#E5ECF6",
          "polar": {
           "angularaxis": {
            "gridcolor": "white",
            "linecolor": "white",
            "ticks": ""
           },
           "bgcolor": "#E5ECF6",
           "radialaxis": {
            "gridcolor": "white",
            "linecolor": "white",
            "ticks": ""
           }
          },
          "scene": {
           "xaxis": {
            "backgroundcolor": "#E5ECF6",
            "gridcolor": "white",
            "gridwidth": 2,
            "linecolor": "white",
            "showbackground": true,
            "ticks": "",
            "zerolinecolor": "white"
           },
           "yaxis": {
            "backgroundcolor": "#E5ECF6",
            "gridcolor": "white",
            "gridwidth": 2,
            "linecolor": "white",
            "showbackground": true,
            "ticks": "",
            "zerolinecolor": "white"
           },
           "zaxis": {
            "backgroundcolor": "#E5ECF6",
            "gridcolor": "white",
            "gridwidth": 2,
            "linecolor": "white",
            "showbackground": true,
            "ticks": "",
            "zerolinecolor": "white"
           }
          },
          "shapedefaults": {
           "line": {
            "color": "#2a3f5f"
           }
          },
          "ternary": {
           "aaxis": {
            "gridcolor": "white",
            "linecolor": "white",
            "ticks": ""
           },
           "baxis": {
            "gridcolor": "white",
            "linecolor": "white",
            "ticks": ""
           },
           "bgcolor": "#E5ECF6",
           "caxis": {
            "gridcolor": "white",
            "linecolor": "white",
            "ticks": ""
           }
          },
          "title": {
           "x": 0.05
          },
          "xaxis": {
           "automargin": true,
           "gridcolor": "white",
           "linecolor": "white",
           "ticks": "",
           "title": {
            "standoff": 15
           },
           "zerolinecolor": "white",
           "zerolinewidth": 2
          },
          "yaxis": {
           "automargin": true,
           "gridcolor": "white",
           "linecolor": "white",
           "ticks": "",
           "title": {
            "standoff": 15
           },
           "zerolinecolor": "white",
           "zerolinewidth": 2
          }
         }
        },
        "title": {
         "text": "Testing different curve fits"
        },
        "xaxis": {
         "anchor": "y",
         "domain": [
          0,
          1
         ]
        },
        "yaxis": {
         "anchor": "x",
         "domain": [
          0,
          1
         ]
        }
       }
      },
      "text/html": [
       "<div>                            <div id=\"c39fbd02-359c-442e-88d5-a7f1c0f39602\" class=\"plotly-graph-div\" style=\"height:525px; width:100%;\"></div>            <script type=\"text/javascript\">                require([\"plotly\"], function(Plotly) {                    window.PLOTLYENV=window.PLOTLYENV || {};                                    if (document.getElementById(\"c39fbd02-359c-442e-88d5-a7f1c0f39602\")) {                    Plotly.newPlot(                        \"c39fbd02-359c-442e-88d5-a7f1c0f39602\",                        [{\"name\":\"Haushalte\",\"y\":[21.48,21.95,22.82,22.94,23.75,24.38,25.28,25.31,25.95,26.76,29.19,29.21,29.81,29.74,29.51,29.46,29.69,29.77,30.48,30.48,29.87,30.0,30.88,28.78,30.43,30.06,31.93,32.34,32.79],\"type\":\"scatter\"},{\"name\":\"linear\",\"y\":[23.184000000048375,23.535487684776022,23.886975369503674,24.238463054231325,24.589950738958972,24.94143842368662,25.29292610841427,25.644413793141922,25.99590147786957,26.347389162597217,26.69887684732487,27.05036453205252,27.401852216780167,27.753339901507815,28.104827586235466,28.456315270963117,28.807802955690764,29.159290640418412,29.510778325146063,29.862266009873714,30.213753694601362,30.56524137932901,30.91672906405666,31.26821674878431,31.61970443351196,31.971192118239607,32.32267980296726,32.67416748769491,33.02565517242256],\"type\":\"scatter\",\"xaxis\":\"x\",\"yaxis\":\"y\"},{\"name\":\"exponential\",\"y\":[25.3127532880483,25.395938042404097,25.486042500117133,25.58364227501139,25.689360863205405,25.803873626189183,25.92791210523237,26.062268694685432,26.20780170402823,26.365440841003867,26.536193150865685,26.721149449679043,26.921491292775748,27.138498522877644,27.373557446108993,27.628169688128484,27.903961786956344,28.20269558377847,28.526279478107025,28.87678061919879,29.2564381116137,29.667677319274485,30.113125359406006,30.59562788533414,31.11826726535766,31.6843822738251,32.29758942020904,32.96180605243415,33.68127538204994],\"type\":\"scatter\",\"xaxis\":\"x\",\"yaxis\":\"y\"},{\"name\":\"square\",\"y\":[21.301664071234537,22.05650945499155,22.78147649066779,23.476565178263254,24.141775517777948,24.77710750921187,25.382561152565017,25.958136447837393,26.503833395028995,27.019651994139824,27.505592245169883,27.961654148119166,28.38783770298768,28.78414290977542,29.150569768482384,29.48711827910858,29.793788441654,30.07058025611865,30.317493722502523,30.534528840805628,30.721685611027958,30.878964033169513,31.006364107230297,31.10388583321031,31.17152921110955,31.209294240928017,31.217180922665708,31.195189256322635,31.14331924189878],\"type\":\"scatter\",\"xaxis\":\"x\",\"yaxis\":\"y\"},{\"name\":\"cubic\",\"y\":[20.47580228034974,21.584588431625818,22.597951648230076,23.52093382142465,24.358576842471674,25.115922602633287,25.798012993171625,26.409889905348827,26.956595230427027,27.443170859668363,27.874658684334968,28.25610059568898,28.59253848499254,28.88901424350778,29.15056976249684,29.382246933221857,29.58908764694496,29.776133794928292,29.948427268433992,30.11100995872419,30.268923757061028,30.42721055470664,30.59091224292316,30.765070712972733,30.954727856117486,31.164925563619562,31.400705726741094,31.667110236744225,31.969180984891075],\"type\":\"scatter\",\"xaxis\":\"x\",\"yaxis\":\"y\"}],                        {\"template\":{\"data\":{\"bar\":[{\"error_x\":{\"color\":\"#2a3f5f\"},\"error_y\":{\"color\":\"#2a3f5f\"},\"marker\":{\"line\":{\"color\":\"#E5ECF6\",\"width\":0.5},\"pattern\":{\"fillmode\":\"overlay\",\"size\":10,\"solidity\":0.2}},\"type\":\"bar\"}],\"barpolar\":[{\"marker\":{\"line\":{\"color\":\"#E5ECF6\",\"width\":0.5},\"pattern\":{\"fillmode\":\"overlay\",\"size\":10,\"solidity\":0.2}},\"type\":\"barpolar\"}],\"carpet\":[{\"aaxis\":{\"endlinecolor\":\"#2a3f5f\",\"gridcolor\":\"white\",\"linecolor\":\"white\",\"minorgridcolor\":\"white\",\"startlinecolor\":\"#2a3f5f\"},\"baxis\":{\"endlinecolor\":\"#2a3f5f\",\"gridcolor\":\"white\",\"linecolor\":\"white\",\"minorgridcolor\":\"white\",\"startlinecolor\":\"#2a3f5f\"},\"type\":\"carpet\"}],\"choropleth\":[{\"colorbar\":{\"outlinewidth\":0,\"ticks\":\"\"},\"type\":\"choropleth\"}],\"contour\":[{\"colorbar\":{\"outlinewidth\":0,\"ticks\":\"\"},\"colorscale\":[[0.0,\"#0d0887\"],[0.1111111111111111,\"#46039f\"],[0.2222222222222222,\"#7201a8\"],[0.3333333333333333,\"#9c179e\"],[0.4444444444444444,\"#bd3786\"],[0.5555555555555556,\"#d8576b\"],[0.6666666666666666,\"#ed7953\"],[0.7777777777777778,\"#fb9f3a\"],[0.8888888888888888,\"#fdca26\"],[1.0,\"#f0f921\"]],\"type\":\"contour\"}],\"contourcarpet\":[{\"colorbar\":{\"outlinewidth\":0,\"ticks\":\"\"},\"type\":\"contourcarpet\"}],\"heatmap\":[{\"colorbar\":{\"outlinewidth\":0,\"ticks\":\"\"},\"colorscale\":[[0.0,\"#0d0887\"],[0.1111111111111111,\"#46039f\"],[0.2222222222222222,\"#7201a8\"],[0.3333333333333333,\"#9c179e\"],[0.4444444444444444,\"#bd3786\"],[0.5555555555555556,\"#d8576b\"],[0.6666666666666666,\"#ed7953\"],[0.7777777777777778,\"#fb9f3a\"],[0.8888888888888888,\"#fdca26\"],[1.0,\"#f0f921\"]],\"type\":\"heatmap\"}],\"heatmapgl\":[{\"colorbar\":{\"outlinewidth\":0,\"ticks\":\"\"},\"colorscale\":[[0.0,\"#0d0887\"],[0.1111111111111111,\"#46039f\"],[0.2222222222222222,\"#7201a8\"],[0.3333333333333333,\"#9c179e\"],[0.4444444444444444,\"#bd3786\"],[0.5555555555555556,\"#d8576b\"],[0.6666666666666666,\"#ed7953\"],[0.7777777777777778,\"#fb9f3a\"],[0.8888888888888888,\"#fdca26\"],[1.0,\"#f0f921\"]],\"type\":\"heatmapgl\"}],\"histogram\":[{\"marker\":{\"pattern\":{\"fillmode\":\"overlay\",\"size\":10,\"solidity\":0.2}},\"type\":\"histogram\"}],\"histogram2d\":[{\"colorbar\":{\"outlinewidth\":0,\"ticks\":\"\"},\"colorscale\":[[0.0,\"#0d0887\"],[0.1111111111111111,\"#46039f\"],[0.2222222222222222,\"#7201a8\"],[0.3333333333333333,\"#9c179e\"],[0.4444444444444444,\"#bd3786\"],[0.5555555555555556,\"#d8576b\"],[0.6666666666666666,\"#ed7953\"],[0.7777777777777778,\"#fb9f3a\"],[0.8888888888888888,\"#fdca26\"],[1.0,\"#f0f921\"]],\"type\":\"histogram2d\"}],\"histogram2dcontour\":[{\"colorbar\":{\"outlinewidth\":0,\"ticks\":\"\"},\"colorscale\":[[0.0,\"#0d0887\"],[0.1111111111111111,\"#46039f\"],[0.2222222222222222,\"#7201a8\"],[0.3333333333333333,\"#9c179e\"],[0.4444444444444444,\"#bd3786\"],[0.5555555555555556,\"#d8576b\"],[0.6666666666666666,\"#ed7953\"],[0.7777777777777778,\"#fb9f3a\"],[0.8888888888888888,\"#fdca26\"],[1.0,\"#f0f921\"]],\"type\":\"histogram2dcontour\"}],\"mesh3d\":[{\"colorbar\":{\"outlinewidth\":0,\"ticks\":\"\"},\"type\":\"mesh3d\"}],\"parcoords\":[{\"line\":{\"colorbar\":{\"outlinewidth\":0,\"ticks\":\"\"}},\"type\":\"parcoords\"}],\"pie\":[{\"automargin\":true,\"type\":\"pie\"}],\"scatter\":[{\"marker\":{\"colorbar\":{\"outlinewidth\":0,\"ticks\":\"\"}},\"type\":\"scatter\"}],\"scatter3d\":[{\"line\":{\"colorbar\":{\"outlinewidth\":0,\"ticks\":\"\"}},\"marker\":{\"colorbar\":{\"outlinewidth\":0,\"ticks\":\"\"}},\"type\":\"scatter3d\"}],\"scattercarpet\":[{\"marker\":{\"colorbar\":{\"outlinewidth\":0,\"ticks\":\"\"}},\"type\":\"scattercarpet\"}],\"scattergeo\":[{\"marker\":{\"colorbar\":{\"outlinewidth\":0,\"ticks\":\"\"}},\"type\":\"scattergeo\"}],\"scattergl\":[{\"marker\":{\"colorbar\":{\"outlinewidth\":0,\"ticks\":\"\"}},\"type\":\"scattergl\"}],\"scattermapbox\":[{\"marker\":{\"colorbar\":{\"outlinewidth\":0,\"ticks\":\"\"}},\"type\":\"scattermapbox\"}],\"scatterpolar\":[{\"marker\":{\"colorbar\":{\"outlinewidth\":0,\"ticks\":\"\"}},\"type\":\"scatterpolar\"}],\"scatterpolargl\":[{\"marker\":{\"colorbar\":{\"outlinewidth\":0,\"ticks\":\"\"}},\"type\":\"scatterpolargl\"}],\"scatterternary\":[{\"marker\":{\"colorbar\":{\"outlinewidth\":0,\"ticks\":\"\"}},\"type\":\"scatterternary\"}],\"surface\":[{\"colorbar\":{\"outlinewidth\":0,\"ticks\":\"\"},\"colorscale\":[[0.0,\"#0d0887\"],[0.1111111111111111,\"#46039f\"],[0.2222222222222222,\"#7201a8\"],[0.3333333333333333,\"#9c179e\"],[0.4444444444444444,\"#bd3786\"],[0.5555555555555556,\"#d8576b\"],[0.6666666666666666,\"#ed7953\"],[0.7777777777777778,\"#fb9f3a\"],[0.8888888888888888,\"#fdca26\"],[1.0,\"#f0f921\"]],\"type\":\"surface\"}],\"table\":[{\"cells\":{\"fill\":{\"color\":\"#EBF0F8\"},\"line\":{\"color\":\"white\"}},\"header\":{\"fill\":{\"color\":\"#C8D4E3\"},\"line\":{\"color\":\"white\"}},\"type\":\"table\"}]},\"layout\":{\"annotationdefaults\":{\"arrowcolor\":\"#2a3f5f\",\"arrowhead\":0,\"arrowwidth\":1},\"autotypenumbers\":\"strict\",\"coloraxis\":{\"colorbar\":{\"outlinewidth\":0,\"ticks\":\"\"}},\"colorscale\":{\"diverging\":[[0,\"#8e0152\"],[0.1,\"#c51b7d\"],[0.2,\"#de77ae\"],[0.3,\"#f1b6da\"],[0.4,\"#fde0ef\"],[0.5,\"#f7f7f7\"],[0.6,\"#e6f5d0\"],[0.7,\"#b8e186\"],[0.8,\"#7fbc41\"],[0.9,\"#4d9221\"],[1,\"#276419\"]],\"sequential\":[[0.0,\"#0d0887\"],[0.1111111111111111,\"#46039f\"],[0.2222222222222222,\"#7201a8\"],[0.3333333333333333,\"#9c179e\"],[0.4444444444444444,\"#bd3786\"],[0.5555555555555556,\"#d8576b\"],[0.6666666666666666,\"#ed7953\"],[0.7777777777777778,\"#fb9f3a\"],[0.8888888888888888,\"#fdca26\"],[1.0,\"#f0f921\"]],\"sequentialminus\":[[0.0,\"#0d0887\"],[0.1111111111111111,\"#46039f\"],[0.2222222222222222,\"#7201a8\"],[0.3333333333333333,\"#9c179e\"],[0.4444444444444444,\"#bd3786\"],[0.5555555555555556,\"#d8576b\"],[0.6666666666666666,\"#ed7953\"],[0.7777777777777778,\"#fb9f3a\"],[0.8888888888888888,\"#fdca26\"],[1.0,\"#f0f921\"]]},\"colorway\":[\"#636efa\",\"#EF553B\",\"#00cc96\",\"#ab63fa\",\"#FFA15A\",\"#19d3f3\",\"#FF6692\",\"#B6E880\",\"#FF97FF\",\"#FECB52\"],\"font\":{\"color\":\"#2a3f5f\"},\"geo\":{\"bgcolor\":\"white\",\"lakecolor\":\"white\",\"landcolor\":\"#E5ECF6\",\"showlakes\":true,\"showland\":true,\"subunitcolor\":\"white\"},\"hoverlabel\":{\"align\":\"left\"},\"hovermode\":\"closest\",\"mapbox\":{\"style\":\"light\"},\"paper_bgcolor\":\"white\",\"plot_bgcolor\":\"#E5ECF6\",\"polar\":{\"angularaxis\":{\"gridcolor\":\"white\",\"linecolor\":\"white\",\"ticks\":\"\"},\"bgcolor\":\"#E5ECF6\",\"radialaxis\":{\"gridcolor\":\"white\",\"linecolor\":\"white\",\"ticks\":\"\"}},\"scene\":{\"xaxis\":{\"backgroundcolor\":\"#E5ECF6\",\"gridcolor\":\"white\",\"gridwidth\":2,\"linecolor\":\"white\",\"showbackground\":true,\"ticks\":\"\",\"zerolinecolor\":\"white\"},\"yaxis\":{\"backgroundcolor\":\"#E5ECF6\",\"gridcolor\":\"white\",\"gridwidth\":2,\"linecolor\":\"white\",\"showbackground\":true,\"ticks\":\"\",\"zerolinecolor\":\"white\"},\"zaxis\":{\"backgroundcolor\":\"#E5ECF6\",\"gridcolor\":\"white\",\"gridwidth\":2,\"linecolor\":\"white\",\"showbackground\":true,\"ticks\":\"\",\"zerolinecolor\":\"white\"}},\"shapedefaults\":{\"line\":{\"color\":\"#2a3f5f\"}},\"ternary\":{\"aaxis\":{\"gridcolor\":\"white\",\"linecolor\":\"white\",\"ticks\":\"\"},\"baxis\":{\"gridcolor\":\"white\",\"linecolor\":\"white\",\"ticks\":\"\"},\"bgcolor\":\"#E5ECF6\",\"caxis\":{\"gridcolor\":\"white\",\"linecolor\":\"white\",\"ticks\":\"\"}},\"title\":{\"x\":0.05},\"xaxis\":{\"automargin\":true,\"gridcolor\":\"white\",\"linecolor\":\"white\",\"ticks\":\"\",\"title\":{\"standoff\":15},\"zerolinecolor\":\"white\",\"zerolinewidth\":2},\"yaxis\":{\"automargin\":true,\"gridcolor\":\"white\",\"linecolor\":\"white\",\"ticks\":\"\",\"title\":{\"standoff\":15},\"zerolinecolor\":\"white\",\"zerolinewidth\":2}}},\"xaxis\":{\"anchor\":\"y\",\"domain\":[0.0,1.0]},\"yaxis\":{\"anchor\":\"x\",\"domain\":[0.0,1.0]},\"title\":{\"text\":\"Testing different curve fits\"}},                        {\"responsive\": true}                    ).then(function(){\n",
       "                            \n",
       "var gd = document.getElementById('c39fbd02-359c-442e-88d5-a7f1c0f39602');\n",
       "var x = new MutationObserver(function (mutations, observer) {{\n",
       "        var display = window.getComputedStyle(gd).display;\n",
       "        if (!display || display === 'none') {{\n",
       "            console.log([gd, 'removed!']);\n",
       "            Plotly.purge(gd);\n",
       "            observer.disconnect();\n",
       "        }}\n",
       "}});\n",
       "\n",
       "// Listen for the removal of the full notebook cells\n",
       "var notebookContainer = gd.closest('#notebook-container');\n",
       "if (notebookContainer) {{\n",
       "    x.observe(notebookContainer, {childList: true});\n",
       "}}\n",
       "\n",
       "// Listen for the clearing of the current output cell\n",
       "var outputEl = gd.closest('.output');\n",
       "if (outputEl) {{\n",
       "    x.observe(outputEl, {childList: true});\n",
       "}}\n",
       "\n",
       "                        })                };                });            </script>        </div>"
      ]
     },
     "metadata": {},
     "output_type": "display_data"
    }
   ],
   "source": [
    "from scipy.optimize import curve_fit\n",
    "\n",
    "def linear(x,a,b):\n",
    "    return a*x+b\n",
    "\n",
    "def exponential(x,b,c):\n",
    "    return np.exp(b*x) + c\n",
    "\n",
    "def square(x,a,b,c):\n",
    "    return a*x**2 + b*x + c\n",
    "\n",
    "def cubic(x,a,b,c,d):\n",
    "    return a*x**3 + b*x**2 + c*x +d\n",
    "\n",
    "popt_lin, pcov_lin = curve_fit(linear, energy_prices.index, energy_prices[\"Haushalte\"])\n",
    "\n",
    "popt_sq, pcov_sq = curve_fit(square, list(energy_prices.index), list(energy_prices[\"Haushalte\"]))\n",
    "\n",
    "popt_exp, pcov_exp = curve_fit(exponential, list(energy_prices.index), list(energy_prices[\"Haushalte\"]))\n",
    "\n",
    "popt_cub, pcov_cub = curve_fit(cubic, list(energy_prices.index), list(energy_prices[\"Haushalte\"]))\n",
    "\n",
    "fig = make_subplots(rows=1, cols=1)\n",
    "fig.add_trace(\n",
    "    go.Scatter(y=energy_prices[\"Haushalte\"], name=\"Haushalte\"))\n",
    "fig.add_trace(\n",
    "    go.Scatter(y=linear(energy_prices.index, *popt_lin),name=\"linear\"),\n",
    "    row=1, col=1)\n",
    "fig.add_trace(\n",
    "    go.Scatter(y=exponential(energy_prices.index, *popt_exp),name=\"exponential\"),\n",
    "    row=1, col=1)\n",
    "fig.add_trace(\n",
    "    go.Scatter(y=square(energy_prices.index, *popt_sq),name=\"square\"),\n",
    "    row=1, col=1)\n",
    "fig.add_trace(\n",
    "    go.Scatter(y=cubic(energy_prices.index, *popt_cub),name=\"cubic\"),\n",
    "    row=1, col=1)\n",
    "fig.update_layout(title=\"Testing different curve fits\")\n",
    "fig.show()\n"
   ]
  },
  {
   "cell_type": "code",
   "execution_count": 547,
   "id": "75cd6194",
   "metadata": {
    "scrolled": false
   },
   "outputs": [
    {
     "data": {
      "application/vnd.jupyter.widget-view+json": {
       "model_id": "7b07ac974e624cc5a62ba0a1ff99fbb8",
       "version_major": 2,
       "version_minor": 0
      },
      "text/plain": [
       "interactive(children=(FloatSlider(value=-0.002, description='a', max=0.05, min=-0.05, readout_format='.3f', st…"
      ]
     },
     "metadata": {},
     "output_type": "display_data"
    }
   ],
   "source": [
    "# Energy cost function\n",
    "\n",
    "\n",
    "\n",
    "\"\"\"\n",
    "Data from https://www.destatis.de/DE/Themen/Wirtschaft/Preise/Publikationen/Energiepreise/energiepreisentwicklung-pdf-5619001.html\n",
    "\"\"\"\n",
    "\n",
    "energy_prices = pd.read_csv(\"german energy prices.csv\")\n",
    "energy_prices.dropna(inplace=True)\n",
    "energy_prices[\"Berichtszeitraum\"] = energy_prices[\"Berichtszeitraum\"].apply(\n",
    "    lambda x: dt.strptime(x, \"%b-%y\").date())\n",
    "\n",
    "@interact(a=widgets.FloatSlider(min=-0.05, max=0.05, step=0.001, value=-0.002, readout_format=\".3f\"), \n",
    "          b=widgets.FloatSlider(min=-0.10, max=0.5, step=0.001, value=0.42), \n",
    "          c=22.7)\n",
    "def energy_function(a, b, c, ):\n",
    "    y = pd.Series(np.arange(0,84)).apply(lambda x : a*x**2 + b*x + c)\n",
    "    k = pd.DataFrame(y)\n",
    "    #energy_prices[\"Kristallkugel\"].merge(k,how=right)\n",
    "    \n",
    "    \n",
    "    fig = make_subplots(rows=1, cols=1)\n",
    "    fig.add_trace(\n",
    "        go.Scatter(x=np.arange(2008,2050,0.5), y=y,name=\"Kristallkugel\"),\n",
    "        row=1, col=1)\n",
    "    fig.add_trace(\n",
    "        go.Scatter(x=np.arange(2008,2050,0.5), y=energy_prices[\"Industrie\"], name=\"Industrie\"))\n",
    "    fig.add_trace(\n",
    "        go.Scatter(x=np.arange(2008,2050,0.5), y=energy_prices[\"Haushalte\"], name=\"Haushalte\"))\n",
    "    fig.update_layout(title=\"What does the future hold?\", yaxis_title=\"€ct/kWh\")\n",
    "    fig.show()\n",
    "    return a,b,c\n"
   ]
  },
  {
   "cell_type": "code",
   "execution_count": 529,
   "id": "d443df52",
   "metadata": {},
   "outputs": [],
   "source": [
    "from datetime import datetime as dt\n",
    "\n",
    "\"\"\"\n",
    "Data from https://www.destatis.de/DE/Themen/Wirtschaft/Preise/Publikationen/Energiepreise/energiepreisentwicklung-pdf-5619001.html\n",
    "\"\"\"\n",
    "def energy_function(a, b, c, num_periods):\n",
    "    start = dt.now().year - 2008 + 1\n",
    "    end = dt.now().year + 1 + num_periods\n",
    "    electricity_price = pd.Series(np.arange(start,end,2)).apply(lambda x : a*x**2 + b*x + c)\n",
    "    return electricity_price\n",
    "\n",
    "def create_dataframe(self):\n",
    "        # Import energy prices\n",
    "        energy_prices = pd.read_csv(\"german energy prices.csv\")\n",
    "        energy_prices.dropna(inplace=True)\n",
    "        energy_prices[\"Berichtszeitraum\"] = energy_prices[\"Berichtszeitraum\"].apply(\n",
    "            lambda x: dt.strptime(x, \"%b-%y\").date())\n",
    "\n",
    "\n",
    "        start = dt.now().year - 2008 + 1\n",
    "        end = dt.now().year + 1 + num_periods\n",
    "\n",
    "        pv_cashflow[\"Electricity price\"] = pd.Series(np.arange(start,end,2)).apply(\n",
    "            lambda x : a*x**2 + b*x + c)\n",
    "        output_0 = unshaded_energy_per_m2*installed_area_m2\n",
    "\n",
    "        pv_cashflow = pd.DataFrame()\n",
    "        pv_cashflow[\"year\"] = np.arange(dt.now().year + 1,dt.now().year + num_periods + 1)\n",
    "\n",
    "        pv_cashflow[\"degradation\"] = degradation_rate**pv_cashflow[\"year\"]\n",
    "        pv_cashflow[\"Output\"] = (output_0)-(output_0*degradation_rate*pv_cashflow[\"year\"]/100)\n",
    "        pv_cashflow[\"Self Consumption\"] = pv_cashflow[\"Output\"]*autarky\n",
    "        pv_cashflow[\"Feed-in Triff\"] = [0.05]*num_periods\n",
    "        pv_cashflow[\"Avoided Energy Purchase\"] = pv_cashflow[\"Self Consumption\"]*pv_cashflow[\"Electricity Price\"]\n",
    "\n",
    "        return pv_cashflow\n",
    "    \n",
    "class interactive_payback():\n",
    "    def __init__(self, electricity_a=0.01, electricity_b=0.04, electricity_c=0.9, installed_area_m2=10,\n",
    "                power_per_m2=200, unshaded_energy_per_m2=800, invest_per_kwp=1250, degradation=2, autarky=0.5, \n",
    "                feed_in_tariff=0.06, num_periods=15):\n",
    "        self.a = widgets.FloatSlider(min=-0.05, max=0.05, step=0.001, value=electricity_a, readout_format=\".3f\"), \n",
    "        self.b = widgets.FloatSlider(min=-0.10, max=0.5, step=0.001, value=electricity_b), \n",
    "        self.c = widgets.FloatSlider(min=0, max=20, step=0.01, value=electricity_c),\n",
    "        self.installed_area_m2 = widgets.FloatSlider(min=0, max=1000, step=1, value=installed_area_m2),\n",
    "        self.power_per_m2 = widgets.FloatSlider(min=100, max=300, step=1, value=power_per_m2),\n",
    "        self.unshaded_energy_per_m2 = widgets.FloatSlider(min=100, max=1300, step=50, value=unshaded_energy_per_m2),\n",
    "        self.invest_per_kwp = widgets.FloatSlider(min=800, max=2000, step=50, value=invest_per_kwp), \n",
    "        self.degradation = widgets.FloatSlider(min=0,max=10, step=0.5, value=degradation)\n",
    "        self.autarky = widgets.FloatSlider(min=0,max=1, step=0.5, value=autarky)\n",
    "        self.feed_in_tariff= widgets.FloatSlider(min=0,max=1, step=0.5, value=autarky), #c/kWh\n",
    "        self.num_periods=15\n",
    "        \n",
    "        self.pv_cashflow = pd.DataFrame()\n",
    "    \n",
    "    def plot_energy(self):\n",
    "        fig = make_subplots(rows=1, cols=1)\n",
    "        fig.add_trace(\n",
    "            go.Scatter(x=np.arange(2008,2050,0.5), y=y,name=\"Energy Function\"),\n",
    "            row=1, col=1)\n",
    "        fig.add_trace(\n",
    "            go.Scatter(x=np.arange(2008,2050,0.5), y=energy_prices[\"Industrie\"], name=\"Industrie\"))\n",
    "        fig.add_trace(\n",
    "            go.Scatter(x=np.arange(2008,2050,0.5), y=energy_prices[\"Haushalte\"], name=\"Haushalte\"))\n",
    "        fig.update_layout(title=\"Energiepreis\")\n",
    "        fig.show()\n",
    "        \n",
    "    def handle_submit(self):\n",
    "        self.pv_cashflow[\"Electricity Price\"] = energy_function(self.a, self.b, self.c, self.num_periods)\n",
    "\n",
    "pv = interactive_payback()\n"
   ]
  },
  {
   "cell_type": "code",
   "execution_count": 563,
   "id": "cdd2b6a1",
   "metadata": {},
   "outputs": [
    {
     "data": {
      "application/vnd.jupyter.widget-view+json": {
       "model_id": "2382a5fbe8804266a04dd444bf6d115e",
       "version_major": 2,
       "version_minor": 0
      },
      "text/plain": [
       "interactive(children=(FloatSlider(value=-0.002, description='a', max=0.05, min=-0.05, readout_format='.3f', st…"
      ]
     },
     "metadata": {},
     "output_type": "display_data"
    },
    {
     "data": {
      "text/html": [
       "<div>\n",
       "<style scoped>\n",
       "    .dataframe tbody tr th:only-of-type {\n",
       "        vertical-align: middle;\n",
       "    }\n",
       "\n",
       "    .dataframe tbody tr th {\n",
       "        vertical-align: top;\n",
       "    }\n",
       "\n",
       "    .dataframe thead th {\n",
       "        text-align: right;\n",
       "    }\n",
       "</style>\n",
       "<table border=\"1\" class=\"dataframe\">\n",
       "  <thead>\n",
       "    <tr style=\"text-align: right;\">\n",
       "      <th></th>\n",
       "      <th>Year</th>\n",
       "      <th>X</th>\n",
       "      <th>Price</th>\n",
       "    </tr>\n",
       "  </thead>\n",
       "  <tbody>\n",
       "    <tr>\n",
       "      <th>0</th>\n",
       "      <td>2024</td>\n",
       "      <td>16.0</td>\n",
       "      <td>28.9080</td>\n",
       "    </tr>\n",
       "    <tr>\n",
       "      <th>1</th>\n",
       "      <td>2025</td>\n",
       "      <td>16.5</td>\n",
       "      <td>29.0855</td>\n",
       "    </tr>\n",
       "    <tr>\n",
       "      <th>2</th>\n",
       "      <td>2026</td>\n",
       "      <td>17.0</td>\n",
       "      <td>29.2620</td>\n",
       "    </tr>\n",
       "    <tr>\n",
       "      <th>3</th>\n",
       "      <td>2027</td>\n",
       "      <td>17.5</td>\n",
       "      <td>29.4375</td>\n",
       "    </tr>\n",
       "    <tr>\n",
       "      <th>4</th>\n",
       "      <td>2028</td>\n",
       "      <td>18.0</td>\n",
       "      <td>29.6120</td>\n",
       "    </tr>\n",
       "    <tr>\n",
       "      <th>5</th>\n",
       "      <td>2029</td>\n",
       "      <td>18.5</td>\n",
       "      <td>29.7855</td>\n",
       "    </tr>\n",
       "    <tr>\n",
       "      <th>6</th>\n",
       "      <td>2030</td>\n",
       "      <td>19.0</td>\n",
       "      <td>29.9580</td>\n",
       "    </tr>\n",
       "    <tr>\n",
       "      <th>7</th>\n",
       "      <td>2031</td>\n",
       "      <td>19.5</td>\n",
       "      <td>30.1295</td>\n",
       "    </tr>\n",
       "    <tr>\n",
       "      <th>8</th>\n",
       "      <td>2032</td>\n",
       "      <td>20.0</td>\n",
       "      <td>30.3000</td>\n",
       "    </tr>\n",
       "    <tr>\n",
       "      <th>9</th>\n",
       "      <td>2033</td>\n",
       "      <td>20.5</td>\n",
       "      <td>30.4695</td>\n",
       "    </tr>\n",
       "    <tr>\n",
       "      <th>10</th>\n",
       "      <td>2034</td>\n",
       "      <td>21.0</td>\n",
       "      <td>30.6380</td>\n",
       "    </tr>\n",
       "    <tr>\n",
       "      <th>11</th>\n",
       "      <td>2035</td>\n",
       "      <td>21.5</td>\n",
       "      <td>30.8055</td>\n",
       "    </tr>\n",
       "    <tr>\n",
       "      <th>12</th>\n",
       "      <td>2036</td>\n",
       "      <td>22.0</td>\n",
       "      <td>30.9720</td>\n",
       "    </tr>\n",
       "    <tr>\n",
       "      <th>13</th>\n",
       "      <td>2037</td>\n",
       "      <td>22.5</td>\n",
       "      <td>31.1375</td>\n",
       "    </tr>\n",
       "    <tr>\n",
       "      <th>14</th>\n",
       "      <td>2038</td>\n",
       "      <td>23.0</td>\n",
       "      <td>31.3020</td>\n",
       "    </tr>\n",
       "  </tbody>\n",
       "</table>\n",
       "</div>"
      ],
      "text/plain": [
       "    Year     X    Price\n",
       "0   2024  16.0  28.9080\n",
       "1   2025  16.5  29.0855\n",
       "2   2026  17.0  29.2620\n",
       "3   2027  17.5  29.4375\n",
       "4   2028  18.0  29.6120\n",
       "5   2029  18.5  29.7855\n",
       "6   2030  19.0  29.9580\n",
       "7   2031  19.5  30.1295\n",
       "8   2032  20.0  30.3000\n",
       "9   2033  20.5  30.4695\n",
       "10  2034  21.0  30.6380\n",
       "11  2035  21.5  30.8055\n",
       "12  2036  22.0  30.9720\n",
       "13  2037  22.5  31.1375\n",
       "14  2038  23.0  31.3020"
      ]
     },
     "execution_count": 563,
     "metadata": {},
     "output_type": "execute_result"
    }
   ],
   "source": [
    "def return_energy_price(a,b,c,num_periods):\n",
    "    electricity_price = pd.DataFrame()\n",
    "    start = dt.now().year - 2008 + 1\n",
    "    end = dt.now().year -2008 + 1 + num_periods\n",
    "    print(start,end)\n",
    "    electricity_price[\"Year\"] = pd.Series(np.arange(dt.now().year+1, dt.now().year+1+num_periods, 1))\n",
    "    electricity_price[\"X\"] = pd.Series(np.arange(start,end, 0.5))\n",
    "    electricity_price[\"Price\"] = electricity_price[\"X\"].apply(lambda x : a*x**2 + b*x + c)\n",
    "    #print(electricity_price)\n",
    "    return electricity_price\n",
    "\n",
    "w = interactive(return_energy_price, \n",
    "                a=widgets.FloatSlider(min=-0.05, max=0.05, step=0.001, value=-0.002, readout_format=\".3f\"), \n",
    "                b=widgets.FloatSlider(min=-0.10, max=0.5, step=0.001, value=0.42), \n",
    "                c=22.7, \n",
    "                num_periods=15,\n",
    "                __manual=True)\n",
    "display(w)\n",
    "w.result"
   ]
  },
  {
   "cell_type": "code",
   "execution_count": 569,
   "id": "e9a9eec2",
   "metadata": {},
   "outputs": [
    {
     "data": {
      "application/vnd.jupyter.widget-view+json": {
       "model_id": "27bd83c421f44857ba09aae11f366769",
       "version_major": 2,
       "version_minor": 0
      },
      "text/plain": [
       "interactive(children=(IntSlider(value=1000, description='principal', max=3000, min=-1000), IntSlider(value=200…"
      ]
     },
     "metadata": {},
     "output_type": "display_data"
    }
   ],
   "source": [
    "def show_cashflow(principal, annual_cashflow, periods, interest):\n",
    "    headers=[\"Cash Flow\", \"Cum. Cash Flow\", \"NPV\", \"Cum. NPV\"]\n",
    "    \n",
    "    values = []\n",
    "    cashflow =pd.Series([-principal]+[annual_cashflow]*(periods))\n",
    "    cashflow_npv = [c/(1+interest)**t for t, c in enumerate(cashflow)]\n",
    "    cashflow_npv_cum = pd.Series(cashflow_npv).cumsum()\n",
    "    \n",
    "    values.append(cashflow)\n",
    "    values.append(cashflow.cumsum())\n",
    "    values.append(cashflow_npv)\n",
    "    values.append(cashflow_npv_cum)\n",
    "    \n",
    "    table = pd.DataFrame({headers[i]:values[i] for i in range(len(headers))})\n",
    "    print(table)\n",
    "    fig = make_subplots(rows=1, cols=4, column_widths=[0.6, 0.1, 0.1, 0.1], subplot_titles=[\"Annual\",\"Cumulative\",\"IRR\"])\n",
    "    fig.add_trace(\n",
    "        go.Bar(y=table[\"Cash Flow\"],name=\"Cash Flow\"),\n",
    "        row=1, col=1)\n",
    "    fig.add_trace(\n",
    "        go.Scatter(y=table[\"Cum. Cash Flow\"], name=\"Total Cash Flow\"),\n",
    "        row=1, col=1)\n",
    "    fig.add_trace(\n",
    "        go.Bar(y=table[\"NPV\"], name=\"Present Value\"),\n",
    "        row=1, col=1)\n",
    "    fig.add_trace(\n",
    "        go.Scatter(y=table[\"Cum. NPV\"], name=\"Present Value\"),\n",
    "        row=1, col=1)\n",
    "    fig.add_trace(\n",
    "        go.Bar(y=[cashflow.sum()], name=\"Sum of Cashflow\"),\n",
    "        row=1, col=2)\n",
    "    fig.add_trace(\n",
    "        go.Bar(y=[npf.npv(interest,cashflow)], name = \"NPV of Cashflow (aka. DCF)\"),\n",
    "        row=1, col=2)\n",
    "    fig.add_trace(\n",
    "        go.Bar(y=[npf.irr(cashflow)], name = \"Internal Rate of Return (IRR)\"),\n",
    "        row=1, col=3)\n",
    "    \n",
    "    fig.update_layout(\n",
    "        title=\"Cash Flow\")\n",
    "    fig.show()\n",
    "    return fig\n",
    "\n",
    "w = interactive(show_cashflow, \n",
    "                principal=1000, \n",
    "                annual_cashflow=200, \n",
    "                periods=15, \n",
    "                interest=widgets.FloatSlider(min=-0.10, max=0.1, step=0.01, value=0.05))\n",
    "display(w)"
   ]
  },
  {
   "cell_type": "markdown",
   "id": "6e39e81c",
   "metadata": {},
   "source": [
    "### Cash Flow\n",
    "\n",
    "Some PV Websites propose the simple amortisation time as a suitable metric. [Explainer link](https://www.calculator.net/payback-period-calculator.html)\n",
    "\n",
    "This is also known as just \"Cash Flow . It provides a general indication of solvency. The main weakness is that it doesn't account for the time value of money.\n"
   ]
  },
  {
   "cell_type": "markdown",
   "id": "d3e3c222",
   "metadata": {},
   "source": [
    "### Payback Period\n",
    "_Unit: years_\n",
    "\n",
    "$$ Payback Period = \\dfrac{Initial Investment}{Cash flow per year} $$\n"
   ]
  },
  {
   "cell_type": "markdown",
   "id": "1e66307c",
   "metadata": {},
   "source": [
    "### Net Present Value (aka. Discounted Cash Flow)\n",
    "\n",
    "The value of all future cashflows over the entire life of a project, starting in the preesnt (t=0)\n",
    "\n",
    "$$ NPV = \\sum_{t=0}^{M-1} \\frac{R_t}{(1 + i)^t} $$\n",
    "\n",
    "where:\n",
    "- $R_t$ = net cash flow at time t\n",
    "- $i$ = discoutn rate\n",
    "- $t$ = time of the cash flow"
   ]
  },
  {
   "cell_type": "markdown",
   "id": "4af47a9f",
   "metadata": {},
   "source": [
    "### Discounted Payback Period (DPP)\n",
    "_Unit: years_\n",
    "\n",
    "Considers the time value of money. The discounted payback period is longer than the payback period.\n",
    "\n",
    "$$ Discounted Payback Period = \\frac{-ln(\\frac{investment amount x discount rate}{cash flow per year})}{ln(1 + discount  rate)} $$\n",
    "\n",
    "Neither PP nor DPP account for risks such as market volatility or alternative investments."
   ]
  },
  {
   "cell_type": "code",
   "execution_count": 103,
   "id": "989452e1",
   "metadata": {},
   "outputs": [
    {
     "name": "stdout",
     "output_type": "stream",
     "text": [
      "Sum of cashflow:  3000\n",
      "Net Present Value of cash flow:  2609.11\n",
      "Internal Rate of Return: 19.0%\n"
     ]
    }
   ],
   "source": [
    "print(\"Sum of cashflow: \", cashflow.sum())\n",
    "rate = 0.01\n",
    "print(\"Net Present Value of cash flow: \", round(npf.npv(rate,cashflow),2))\n",
    "print(\"Internal Rate of Return: {}%\".format(round(npf.irr(cashflow),2)*100))"
   ]
  },
  {
   "cell_type": "markdown",
   "id": "5296c2f1",
   "metadata": {},
   "source": [
    "### Internal Rate of Return (%)\n",
    "\n",
    "_The Discount rate that makes the net present value of a project zero_\n",
    "\n",
    "$$ 0 = NPV = \\sum_{n=0}^{N} \\frac{CF_n}{(1 + IRR)^n} $$\n",
    "\n",
    "Where:\n",
    "- $CF_0$ = Initial Investment / Outlay\n",
    "- $CF_1, CF_2, ... CF_n$ = Cash Flows\n",
    "- $n$ = each period\n",
    "- $N$ = Holding Period\n",
    "- $NPV$ = Net present value\n",
    "- $IRR$ = Internal Rate of Return\n",
    "\n",
    "The IRR returns a % value which makes it possible to compare investments. This is a derivative function which is either solved \n",
    "\n",
    "Assumes all positive cashflows of a project will be rieinvested at the same rate as the project, instead of the company's cost of capital, therefore possibly not accurately reflecting the profitability and cost of a project.\n",
    "\n",
    "Alternative: Modified Internal Rate of Return for more accuracy\n",
    " Should be analysed together with the Net Present Value (NPV) and Payback Period. \n",
    "\n",
    "Important factors to consider when running this calculation:\n",
    "- Risk Tolerance\n",
    "- Company's investment needs\n",
    "- Risk aversion\n"
   ]
  },
  {
   "cell_type": "markdown",
   "id": "4c33ba4c",
   "metadata": {},
   "source": [
    "### Real rate of return\n",
    "### Discounted rate of return\n",
    "### Discounted Payback Period (DPP)"
   ]
  },
  {
   "cell_type": "markdown",
   "id": "0c6e32ca",
   "metadata": {},
   "source": [
    "### Levelized Cost of Energy (LCOE)\n",
    "\n",
    "The \"Levelized Cost of Energy\" (LCOE) is the price at which electricity must be generated from a\n",
    "specific source to break even over the lifetime of the project. \n",
    "\n",
    "$$ LCOE = \\frac{\\sum_{t=1}^{n} \\frac{I_t + M_t + F_t}{(1+r)^t}}{\\sum_{t=1}^{n} \\frac{E_t}{(1+r)^t}} $$\n",
    "\n",
    "where: \n",
    "- $I_t$ = Investment expenditures in year t \n",
    "- $M_t$ = operations and maintenance expenditures in year t\n",
    "- $F_t$ = Fuel expenditures in year t\n",
    "- $E_t$ = Electricity generation in the year t\n",
    "- $r$ = discount rate\n",
    "- $n$ = investment period in years\n",
    "\n",
    "References:\n",
    "- [PV Electricity Cost Maps 2014 (PV-Gis paper describing the methodology)](https://www.researchgate.net/profile/Arnulf-Jaeger-Waldau/publication/269100308_Cost_Maps_for_Unsubsidised_Photovoltaic_Electricity/links/5480458d0cf2ccc7f8bb65db/Cost-Maps-for-Unsubsidised-Photovoltaic-Electricity.pdf)\n",
    "- [PVinsights website (used by the previous as investment cost reference)](http://pvinsights.com/Member/Login.php)\n",
    "- [Detailed LCOE Studies](https://www.lazard.com/media/450784/lazards-levelized-cost-of-energy-version-120-vfinal.pdf)"
   ]
  },
  {
   "cell_type": "code",
   "execution_count": null,
   "id": "1803728e",
   "metadata": {},
   "outputs": [],
   "source": [
    "import pandas as pd"
   ]
  },
  {
   "cell_type": "code",
   "execution_count": 241,
   "id": "fd1a0e4a",
   "metadata": {},
   "outputs": [
    {
     "ename": "SyntaxError",
     "evalue": "invalid syntax (2347645553.py, line 2)",
     "output_type": "error",
     "traceback": [
      "\u001b[1;36m  File \u001b[1;32m\"C:\\Users\\jzarb\\AppData\\Local\\Temp\\ipykernel_29132\\2347645553.py\"\u001b[1;36m, line \u001b[1;32m2\u001b[0m\n\u001b[1;33m    _Unit: %_\u001b[0m\n\u001b[1;37m           ^\u001b[0m\n\u001b[1;31mSyntaxError\u001b[0m\u001b[1;31m:\u001b[0m invalid syntax\n"
     ]
    }
   ],
   "source": [
    "### Discount rate\n",
    "_Unit: %_\n",
    "\n",
    "The rate at which an investor needs to invest to get the same cash flow over the same period.\n",
    "\n",
    "### Weighted average cost of capital (WACC)\n",
    "_Unit: %_\n",
    "\n",
    "The discount rate used to compute present vlaue of future cashflows. Represents a firm's cost of capital, where each category of capital is proportionally weighted. Used in place of discount rate because it represents the financial opportunity cost better.\n"
   ]
  },
  {
   "cell_type": "code",
   "execution_count": null,
   "id": "e5651902",
   "metadata": {},
   "outputs": [],
   "source": []
  },
  {
   "cell_type": "code",
   "execution_count": 222,
   "id": "0a55223a",
   "metadata": {},
   "outputs": [
    {
     "data": {
      "application/vnd.jupyter.widget-view+json": {
       "model_id": "8cb07a17ced24a34a1000eaf9605c9f1",
       "version_major": 2,
       "version_minor": 0
      },
      "text/plain": [
       "interactive(children=(FloatSlider(value=0.05, description='interest_rate', max=0.15000000000000002, min=-0.05)…"
      ]
     },
     "metadata": {},
     "output_type": "display_data"
    }
   ],
   "source": [
    "@interact(interest_rate=0.05, years=10, payments_year=12, principal=10000, addl_principal=100)\n",
    "def amortization_table(interest_rate, years, payments_year, principal, addl_principal=0):\n",
    "    \"\"\" Calculate the amortization schedule given the loan details\n",
    "    \n",
    "     Args:\n",
    "        interest_rate: The annual interest rate for this loan\n",
    "        years: Number of years for the loan\n",
    "        payments_year: Number of payments in a year\n",
    "        principal: Amount borrowed\n",
    "        addl_principal (optional): Additional payments to be made each period. Assume 0 if nothing provided.\n",
    "                                   must be a value less then 0, the function will convert a positive value to\n",
    "                                   negative\n",
    "        start_date (optional): Start date. Will start on first of next month if none provided\n",
    "\n",
    "    Returns:\n",
    "        schedule: Amortization schedule as a pandas dataframe\n",
    "        summary: Pandas dataframe that summarizes the payoff information\n",
    "    \"\"\"\n",
    "    start_date=date.today()\n",
    "    # Ensure the additional payments are negative\n",
    "    if addl_principal > 0:\n",
    "        addl_principal = -addl_principal\n",
    "    \n",
    "    # Create an index of the payment dates\n",
    "    rng = pd.date_range(start_date, periods=years * payments_year, freq='MS')\n",
    "    rng.name = \"Payment_Date\"\n",
    "    \n",
    "    # Build up the Amortization schedule as a DataFrame\n",
    "    df = pd.DataFrame(index=rng,columns=['Payment', 'Principal', 'Interest', \n",
    "                                         'Addl_Principal', 'Curr_Balance'], dtype='float')\n",
    "    \n",
    "    # Add index by period (start at 1 not 0)\n",
    "    df.reset_index(inplace=True)\n",
    "    df.index += 1\n",
    "    df.index.name = \"Period\"\n",
    "    \n",
    "    # Calculate the payment, principal and interests amounts using built in Numpy functions\n",
    "    per_payment = npf.pmt(interest_rate/payments_year, years*payments_year, principal)\n",
    "    df[\"Payment\"] = per_payment\n",
    "    df[\"Principal\"] = npf.ppmt(interest_rate/payments_year, df.index, years*payments_year, principal)\n",
    "    df[\"Interest\"] = npf.ipmt(interest_rate/payments_year, df.index, years*payments_year, principal)\n",
    "        \n",
    "    # Round the values\n",
    "    df = df.round(2) \n",
    "    \n",
    "    # Add in the additional principal payments\n",
    "    df[\"Addl_Principal\"] = addl_principal\n",
    "    \n",
    "    # Store the Cumulative Principal Payments and ensure it never gets larger than the original principal\n",
    "    df[\"Cumulative_Principal\"] = (df[\"Principal\"] + df[\"Addl_Principal\"]).cumsum()\n",
    "    df[\"Cumulative_Principal\"] = df[\"Cumulative_Principal\"].clip(lower=-principal)\n",
    "    \n",
    "    # Calculate the current balance for each period\n",
    "    df[\"Curr_Balance\"] = principal + df[\"Cumulative_Principal\"]\n",
    "    \n",
    "    # Determine the last payment date\n",
    "    try:\n",
    "        last_payment = df.query(\"Curr_Balance <= 0\")[\"Curr_Balance\"].idxmax(axis=1, skipna=True)\n",
    "    except ValueError:\n",
    "        last_payment = df.last_valid_index()\n",
    "    \n",
    "    last_payment_date = \"{:%m-%d-%Y}\".format(df.loc[last_payment, \"Payment_Date\"])\n",
    "        \n",
    "    # Truncate the data frame if we have additional principal payments:\n",
    "    if addl_principal != 0:\n",
    "                \n",
    "        # Remove the extra payment periods\n",
    "        df = df.loc[0:last_payment].copy()\n",
    "        \n",
    "        # Calculate the principal for the last row\n",
    "        df.loc[last_payment, \"Principal\"] = -(df.loc[last_payment-1, \"Curr_Balance\"])\n",
    "        \n",
    "        # Calculate the total payment for the last row\n",
    "        df.loc[last_payment, \"Payment\"] = df.loc[last_payment, [\"Principal\", \"Interest\"]].sum()\n",
    "        \n",
    "        # Zero out the additional principal\n",
    "        df.loc[last_payment, \"Addl_Principal\"] = 0\n",
    "        \n",
    "    # Get the payment info into a DataFrame in column order\n",
    "    payment_info = (df[[\"Payment\", \"Principal\", \"Addl_Principal\", \"Interest\"]]\n",
    "                    .sum().to_frame().T)\n",
    "       \n",
    "    # Format the Date DataFrame\n",
    "    payment_details = pd.DataFrame.from_dict(dict([('payoff_date', [last_payment_date]),\n",
    "                                               ('Interest Rate', [interest_rate]),\n",
    "                                               ('Number of years', [years])\n",
    "                                              ]))\n",
    "    # Add a column showing how much we pay each period.\n",
    "    # Combine addl principal with principal for total payment\n",
    "    payment_details[\"Period_Payment\"] = round(per_payment, 2) + addl_principal\n",
    "    \n",
    "    payment_summary = pd.concat([payment_details, payment_info], axis=1)\n",
    "    \n",
    "    fig = go.Figure()\n",
    "    fig.add_trace(\n",
    "        go.Bar(y=df[\"Curr_Balance\"], name=\"Current Balance\"))\n",
    "    fig.add_trace(\n",
    "        go.Bar(y=df[\"Cumulative_Principal\"], name=\"Cumulative Principal\"))\n",
    "    fig.show()\n",
    "    return payment_summary\n"
   ]
  }
 ],
 "metadata": {
  "kernelspec": {
   "display_name": "Python 3 (ipykernel)",
   "language": "python",
   "name": "python3"
  },
  "language_info": {
   "codemirror_mode": {
    "name": "ipython",
    "version": 3
   },
   "file_extension": ".py",
   "mimetype": "text/x-python",
   "name": "python",
   "nbconvert_exporter": "python",
   "pygments_lexer": "ipython3",
   "version": "3.8.13"
  }
 },
 "nbformat": 4,
 "nbformat_minor": 5
}
